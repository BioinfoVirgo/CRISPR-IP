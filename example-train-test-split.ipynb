{
 "cells": [
  {
   "cell_type": "code",
   "execution_count": 1,
   "metadata": {},
   "outputs": [],
   "source": [
    "import pandas as pd\n",
    "import numpy as np\n",
    "from sklearn.model_selection import train_test_split"
   ]
  },
  {
   "cell_type": "code",
   "execution_count": 2,
   "metadata": {},
   "outputs": [],
   "source": [
    "filenames= ['CIRCLE_seq_10gRNA_wholeDataset', 'SITE-Seq_offTarget_wholeDataset']\n",
    "file_column_dict = {'CIRCLE_seq_10gRNA_wholeDataset':('sgRNA_seq', 'off_seq', 'label', 'sgRNA_type'),\n",
    "                    'SITE-Seq_offTarget_wholeDataset':('on_seq', 'off_seq', 'reads', 'on_seq')}"
   ]
  },
  {
   "cell_type": "code",
   "execution_count": 3,
   "metadata": {},
   "outputs": [],
   "source": [
    "def load_data(filename):\n",
    "    columns = file_column_dict[filename]\n",
    "    data = pd.read_csv('datas/{}.csv'.format(filename))\n",
    "    sgRNAs = data[columns[0]]\n",
    "    DNAs = data[columns[1]]\n",
    "    labels = data[columns[2]]\n",
    "    sgRNA_types = data[columns[3]]\n",
    "    sgRNAs = sgRNAs.apply(lambda sgRNA: sgRNA.upper())\n",
    "    DNAs = DNAs.apply(lambda DNA: DNA.upper())\n",
    "    labels = labels.apply(lambda label: int(label!=0))\n",
    "    sgRNAs_new = []\n",
    "    for index, sgRNA in enumerate(sgRNAs):\n",
    "        sgRNA = list(sgRNA)\n",
    "        sgRNA[-3] = DNAs[index][-3]\n",
    "        sgRNAs_new.append(''.join(sgRNA))\n",
    "    sgRNAs = pd.Series(sgRNAs_new)\n",
    "    data = pd.DataFrame.from_dict({'sgRNAs':sgRNAs, 'DNAs':DNAs, 'labels':labels})\n",
    "    return data[data.apply(lambda row: 'N' not in list(row['DNAs']), axis = 1)]"
   ]
  },
  {
   "cell_type": "code",
   "execution_count": 4,
   "metadata": {},
   "outputs": [],
   "source": [
    "datas = []\n",
    "for filename in filenames:\n",
    "    data = load_data(filename)\n",
    "    datas.append(data)\n",
    "datas = pd.concat(datas, axis=0)\n",
    "train, test = train_test_split(datas, test_size=0.2, random_state=42)"
   ]
  },
  {
   "cell_type": "code",
   "execution_count": 5,
   "metadata": {},
   "outputs": [],
   "source": [
    "train.to_csv('example_saved/example-train-data.csv', index=False)\n",
    "test.to_csv('example_saved/example-test-data.csv', index=False)"
   ]
  },
  {
   "cell_type": "code",
   "execution_count": null,
   "metadata": {},
   "outputs": [],
   "source": []
  }
 ],
 "metadata": {
  "kernelspec": {
   "display_name": "Python 3",
   "language": "python",
   "name": "python3"
  },
  "language_info": {
   "codemirror_mode": {
    "name": "ipython",
    "version": 3
   },
   "file_extension": ".py",
   "mimetype": "text/x-python",
   "name": "python",
   "nbconvert_exporter": "python",
   "pygments_lexer": "ipython3",
   "version": "3.6.9"
  }
 },
 "nbformat": 4,
 "nbformat_minor": 2
}
