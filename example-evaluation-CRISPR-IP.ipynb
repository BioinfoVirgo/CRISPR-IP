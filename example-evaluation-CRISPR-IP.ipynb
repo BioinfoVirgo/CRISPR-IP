{
 "cells": [
  {
   "cell_type": "code",
   "execution_count": 1,
   "metadata": {},
   "outputs": [],
   "source": [
    "import pandas as pd\n",
    "import numpy as np\n",
    "from codes.encoding import my_encode_on_off_dim\n",
    "from codes import CRISPR_IP\n",
    "import tensorflow as tf\n",
    "from tensorflow.keras.models import load_model\n",
    "from tensorflow.keras.utils import to_categorical\n",
    "import os\n",
    "from sklearn.metrics import f1_score, precision_score, recall_score, accuracy_score, roc_auc_score, average_precision_score"
   ]
  },
  {
   "cell_type": "code",
   "execution_count": 2,
   "metadata": {},
   "outputs": [],
   "source": [
    "seed = 123\n",
    "os.environ['CUDA_VISIBLE_DEVICES'] = '1'\n",
    "os.environ['PYTHONHASHSEED']=str(seed)\n",
    "np.random.seed(seed)\n",
    "tf.random.set_seed(seed)"
   ]
  },
  {
   "cell_type": "code",
   "execution_count": 3,
   "metadata": {},
   "outputs": [],
   "source": [
    "num_classes = 2\n",
    "encoder_shape=(24,7)\n",
    "seq_len, coding_dim = encoder_shape"
   ]
  },
  {
   "cell_type": "code",
   "execution_count": 4,
   "metadata": {},
   "outputs": [
    {
     "name": "stdout",
     "output_type": "stream",
     "text": [
      "Load model!!\n",
      "Encoding!!\n",
      "End of the encoding!!\n"
     ]
    }
   ],
   "source": [
    "print('Load model!!')\n",
    "model = load_model('example_saved/example+crispr_ip.h5')\n",
    "print('Encoding!!')\n",
    "test_data = pd.read_csv('example_saved/example-test-data.csv')\n",
    "test_data_encodings = np.array(test_data.apply(lambda row: my_encode_on_off_dim(row['sgRNAs'], row['DNAs']), axis = 1).to_list())\n",
    "test_labels = test_data.loc[:, 'labels'].values\n",
    "print('End of the encoding!!')"
   ]
  },
  {
   "cell_type": "code",
   "execution_count": 5,
   "metadata": {},
   "outputs": [],
   "source": [
    "input_shape = (1, seq_len, coding_dim)\n",
    "xtest = test_data_encodings.reshape(test_data_encodings.shape[0], 1, seq_len, coding_dim)\n",
    "xtest = xtest.astype('float32')\n",
    "ytest = test_labels"
   ]
  },
  {
   "cell_type": "code",
   "execution_count": 6,
   "metadata": {},
   "outputs": [],
   "source": [
    "yscore = model.predict(xtest)\n",
    "ypred = np.argmax(yscore, axis=1)\n",
    "yscore = yscore[:,1]"
   ]
  },
  {
   "cell_type": "code",
   "execution_count": 7,
   "metadata": {},
   "outputs": [],
   "source": [
    "test_data['pred_label'] = ypred\n",
    "test_data['pred_score'] = yscore"
   ]
  },
  {
   "cell_type": "code",
   "execution_count": 8,
   "metadata": {},
   "outputs": [
    {
     "name": "stdout",
     "output_type": "stream",
     "text": [
      "Saved result!!\n"
     ]
    }
   ],
   "source": [
    "test_data.to_csv('example_saved/example-predict-result.csv', index=False)\n",
    "print('Saved result!!')"
   ]
  },
  {
   "cell_type": "code",
   "execution_count": 9,
   "metadata": {},
   "outputs": [],
   "source": [
    "eval_funs = [accuracy_score, f1_score, precision_score, recall_score, roc_auc_score, average_precision_score]\n",
    "eval_fun_names = ['Accuracy', 'F1 score', 'Precision', 'Recall', 'ROC AUC', 'PR AUC']\n",
    "eval_fun_types = [True, True, True, True, False, False]"
   ]
  },
  {
   "cell_type": "code",
   "execution_count": 10,
   "metadata": {},
   "outputs": [
    {
     "name": "stdout",
     "output_type": "stream",
     "text": [
      "Accuracy                0.9931\n",
      "F1 score                0.7197\n",
      "Precision               0.8148\n",
      "Recall                  0.6444\n",
      "ROC AUC                 0.9898\n",
      "PR AUC                  0.7973\n"
     ]
    }
   ],
   "source": [
    "for index_f, function in enumerate(eval_funs):\n",
    "    if eval_fun_types[index_f]:\n",
    "        score = np.round(function(ytest, ypred), 4)\n",
    "    else:\n",
    "        score = np.round(function(ytest, yscore), 4)\n",
    "    print('{:<15}{:>15}'.format(eval_fun_names[index_f], score))"
   ]
  },
  {
   "cell_type": "code",
   "execution_count": null,
   "metadata": {},
   "outputs": [],
   "source": []
  }
 ],
 "metadata": {
  "kernelspec": {
   "display_name": "Python 3",
   "language": "python",
   "name": "python3"
  },
  "language_info": {
   "codemirror_mode": {
    "name": "ipython",
    "version": 3
   },
   "file_extension": ".py",
   "mimetype": "text/x-python",
   "name": "python",
   "nbconvert_exporter": "python",
   "pygments_lexer": "ipython3",
   "version": "3.6.9"
  }
 },
 "nbformat": 4,
 "nbformat_minor": 2
}
